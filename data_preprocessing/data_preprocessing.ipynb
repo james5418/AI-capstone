{
 "cells": [
  {
   "cell_type": "code",
   "execution_count": 21,
   "metadata": {},
   "outputs": [],
   "source": [
    "import numpy as np\n",
    "import pandas as pd\n",
    "from cleantext import clean\n",
    "import re \n",
    "import twint\n",
    "import nest_asyncio"
   ]
  },
  {
   "cell_type": "code",
   "execution_count": 22,
   "metadata": {},
   "outputs": [
    {
     "data": {
      "text/plain": [
       "{'😜': 0, '😍': 1, '😉': 2, '🔥': 3, '💜': 4, '💯': 5}"
      ]
     },
     "execution_count": 22,
     "metadata": {},
     "output_type": "execute_result"
    }
   ],
   "source": [
    "mapping = pd.read_csv('map.csv')\n",
    "mapping.drop('Unnamed: 0', 1, inplace=True)\n",
    "mapping_dict = mapping.to_dict()\n",
    "mapping_dict = mapping_dict['emoji']\n",
    "mapping_dict = {v: k for k, v in mapping_dict.items()}\n",
    "mapping_dict"
   ]
  },
  {
   "cell_type": "code",
   "execution_count": 23,
   "metadata": {},
   "outputs": [
    {
     "name": "stdout",
     "output_type": "stream",
     "text": [
      "😜\n",
      "😍\n",
      "😉\n",
      "🔥\n",
      "💜\n",
      "💯\n"
     ]
    }
   ],
   "source": [
    "nest_asyncio.apply()\n",
    "emojis = \"😜😍😉🔥💜💯\"\n",
    "\n",
    "for i, emoji in enumerate(emojis):\n",
    "    print(emoji)\n",
    "    config = twint.Config()\n",
    "    config.Search = emoji\n",
    "    config.Lang = \"en\"\n",
    "    config.Limit = 500\n",
    "    config.Store_json = True\n",
    "    config.Output = f\"{i+1}.json\"\n",
    "    config.Hide_output = True\n",
    "    twint.run.Search(config)"
   ]
  },
  {
   "cell_type": "code",
   "execution_count": 24,
   "metadata": {},
   "outputs": [
    {
     "name": "stderr",
     "output_type": "stream",
     "text": [
      "C:\\Users\\user\\Anaconda3\\lib\\site-packages\\ipykernel_launcher.py:16: SettingWithCopyWarning: \n",
      "A value is trying to be set on a copy of a slice from a DataFrame.\n",
      "Try using .loc[row_indexer,col_indexer] = value instead\n",
      "\n",
      "See the caveats in the documentation: http://pandas.pydata.org/pandas-docs/stable/user_guide/indexing.html#returning-a-view-versus-a-copy\n",
      "  app.launch_new_instance()\n",
      "C:\\Users\\user\\Anaconda3\\lib\\site-packages\\ipykernel_launcher.py:17: SettingWithCopyWarning: \n",
      "A value is trying to be set on a copy of a slice from a DataFrame.\n",
      "Try using .loc[row_indexer,col_indexer] = value instead\n",
      "\n",
      "See the caveats in the documentation: http://pandas.pydata.org/pandas-docs/stable/user_guide/indexing.html#returning-a-view-versus-a-copy\n"
     ]
    },
    {
     "data": {
      "text/html": [
       "<div>\n",
       "<style scoped>\n",
       "    .dataframe tbody tr th:only-of-type {\n",
       "        vertical-align: middle;\n",
       "    }\n",
       "\n",
       "    .dataframe tbody tr th {\n",
       "        vertical-align: top;\n",
       "    }\n",
       "\n",
       "    .dataframe thead th {\n",
       "        text-align: right;\n",
       "    }\n",
       "</style>\n",
       "<table border=\"1\" class=\"dataframe\">\n",
       "  <thead>\n",
       "    <tr style=\"text-align: right;\">\n",
       "      <th></th>\n",
       "      <th>Tweet</th>\n",
       "      <th>Emoji</th>\n",
       "    </tr>\n",
       "  </thead>\n",
       "  <tbody>\n",
       "    <tr>\n",
       "      <td>0</td>\n",
       "      <td>dianacoco_ pretty face, tiny body with big bre...</td>\n",
       "      <td>0</td>\n",
       "    </tr>\n",
       "    <tr>\n",
       "      <td>1</td>\n",
       "      <td>theapplehub that is creepy</td>\n",
       "      <td>0</td>\n",
       "    </tr>\n",
       "    <tr>\n",
       "      <td>2</td>\n",
       "      <td>ain't this a body-shaming!! it was meant to be...</td>\n",
       "      <td>0</td>\n",
       "    </tr>\n",
       "    <tr>\n",
       "      <td>3</td>\n",
       "      <td>_calculator morning garth, trust you are well....</td>\n",
       "      <td>0</td>\n",
       "    </tr>\n",
       "    <tr>\n",
       "      <td>4</td>\n",
       "      <td>shivapunishbjp rahulgandhi dynastical bootlick...</td>\n",
       "      <td>0</td>\n",
       "    </tr>\n",
       "    <tr>\n",
       "      <td>...</td>\n",
       "      <td>...</td>\n",
       "      <td>...</td>\n",
       "    </tr>\n",
       "    <tr>\n",
       "      <td>828</td>\n",
       "      <td>stop fckin wimmie if you makin another mf feel...</td>\n",
       "      <td>5</td>\n",
       "    </tr>\n",
       "    <tr>\n",
       "      <td>829</td>\n",
       "      <td>y'all won that shit</td>\n",
       "      <td>5</td>\n",
       "    </tr>\n",
       "    <tr>\n",
       "      <td>830</td>\n",
       "      <td>please kindly retweet the thread of job vacanc...</td>\n",
       "      <td>5</td>\n",
       "    </tr>\n",
       "    <tr>\n",
       "      <td>831</td>\n",
       "      <td>jihoonisanaegi dm and get spoiled asap</td>\n",
       "      <td>5</td>\n",
       "    </tr>\n",
       "    <tr>\n",
       "      <td>832</td>\n",
       "      <td>lex_get_st0ned facts! that remix to like wow! ...</td>\n",
       "      <td>5</td>\n",
       "    </tr>\n",
       "  </tbody>\n",
       "</table>\n",
       "<p>833 rows × 2 columns</p>\n",
       "</div>"
      ],
      "text/plain": [
       "                                                 Tweet Emoji\n",
       "0    dianacoco_ pretty face, tiny body with big bre...     0\n",
       "1                           theapplehub that is creepy     0\n",
       "2    ain't this a body-shaming!! it was meant to be...     0\n",
       "3    _calculator morning garth, trust you are well....     0\n",
       "4    shivapunishbjp rahulgandhi dynastical bootlick...     0\n",
       "..                                                 ...   ...\n",
       "828  stop fckin wimmie if you makin another mf feel...     5\n",
       "829                                y'all won that shit     5\n",
       "830  please kindly retweet the thread of job vacanc...     5\n",
       "831             jihoonisanaegi dm and get spoiled asap     5\n",
       "832  lex_get_st0ned facts! that remix to like wow! ...     5\n",
       "\n",
       "[833 rows x 2 columns]"
      ]
     },
     "execution_count": 24,
     "metadata": {},
     "output_type": "execute_result"
    }
   ],
   "source": [
    "data = []\n",
    "\n",
    "for i, emoji in enumerate(emojis):\n",
    "    df = pd.read_json(f'{i+1}.json', lines=True)\n",
    "    input = df.loc[:,'tweet' : 'language'].values\n",
    "    input = pd.DataFrame(data = np.array(input), columns=[\"tweet\", \"language\"])\n",
    "    en = input[input['language'] == 'en']\n",
    "\n",
    "    tweet = []\n",
    "    for text in en['tweet'].values:\n",
    "        text = clean(text, no_emoji=True)\n",
    "        text = re.sub(r\"http\\S+\", \"\", text)\n",
    "        text = re.sub(r\"@+\", \"\", text)\n",
    "        tweet.append(text)\n",
    "    \n",
    "    en['emoji'] = mapping_dict[emojis[i]]\n",
    "    en['tweet'] = tweet\n",
    "    en.drop('language', 1, inplace=True)\n",
    "\n",
    "    data.extend(en.values)\n",
    "\n",
    "c = pd.DataFrame(data = np.array(data), columns=[\"Tweet\", \"Emoji\"])\n",
    "c.to_csv(\"twitter_dataset.csv\", index = False)\n",
    "c"
   ]
  }
 ],
 "metadata": {
  "interpreter": {
   "hash": "5f292722d6d50c2426abae6fd15a85386b49c5393ec98f1c35f79e4e4dd7448b"
  },
  "kernelspec": {
   "display_name": "Python 3.7.4 ('base')",
   "language": "python",
   "name": "python3"
  },
  "language_info": {
   "codemirror_mode": {
    "name": "ipython",
    "version": 3
   },
   "file_extension": ".py",
   "mimetype": "text/x-python",
   "name": "python",
   "nbconvert_exporter": "python",
   "pygments_lexer": "ipython3",
   "version": "3.7.4"
  },
  "orig_nbformat": 4
 },
 "nbformat": 4,
 "nbformat_minor": 2
}
