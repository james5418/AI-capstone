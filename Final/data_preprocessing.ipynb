{
 "cells": [
  {
   "cell_type": "code",
   "execution_count": 1,
   "id": "693a1167",
   "metadata": {},
   "outputs": [],
   "source": [
    "import torch\n",
    "from torch import nn, optim\n",
    "import numpy as np\n",
    "import pandas as pd\n",
    "from tqdm import tqdm\n",
    "from transformers import AutoTokenizer, AutoModel\n",
    "import jieba.posseg as pseg\n",
    "import re"
   ]
  },
  {
   "cell_type": "code",
   "execution_count": null,
   "id": "21a95ae6",
   "metadata": {},
   "outputs": [],
   "source": [
    "en_tokenizer = AutoTokenizer.from_pretrained(\"bert-base-cased\")\n",
    "en_model = AutoModel.from_pretrained(\"bert-base-cased\")\n",
    "zh_tokenizer = AutoTokenizer.from_pretrained(\"bert-base-chinese\")\n",
    "zh_model = AutoModel.from_pretrained(\"bert-base-chinese\")"
   ]
  },
  {
   "cell_type": "code",
   "execution_count": null,
   "id": "5d3a5356",
   "metadata": {},
   "outputs": [],
   "source": [
    "df1 = pd.read_csv('./notification_sorted.csv')\n",
    "\n",
    "r1 = u'[a-zA-Z0-9’!\"#$%&\\'()*+「」,-./:;<=>?°·@，。?★、…【】《》？“”‘’［］！[\\\\]^_`{|}~]+'\n",
    "r2 = \"[\\s+\\.\\!\\/_,$%^*(+\\\"\\']+|[+——！，。？、~@#￥%……&*（）]+\"\n",
    "r3 =  \"[.!//_,$&%^*()<>+\\\"'?@#-|:~{}]+|[——！\\\\\\\\，。=？、：“”‘’《》【】￥……（）]+\" \n",
    "r4 =  \"\\\\【.*?】+|\\\\《.*?》+|\\\\#.*?#+|[.!/_,$&%^*()<>+\"\"'?@|:~{}#]+|[——！\\\\\\，。=？、：“”‘’￥……（）《》【】]\"\n",
    "\n",
    "emoji_pattern = re.compile(\"[\"\n",
    "        u\"\\U0001F600-\\U0001F64F\"  # emoticons\n",
    "        u\"\\U0001F300-\\U0001F5FF\"  # symbols & pictographs\n",
    "        u\"\\U0001F680-\\U0001F6FF\"  # transport & map symbols\n",
    "        u\"\\U0001F1E0-\\U0001F1FF\"  # flags (iOS)\n",
    "        u\"\\U0001F9D0\"\n",
    "                           \"]+\", flags=re.UNICODE)\n",
    "        \n",
    "droplist = list()        \n",
    "for i in range(len(df1)):\n",
    "\n",
    "    if len(str(df1.iloc[i]['appName'])) == 0 or len(str(df1.iloc[i]['category'])) == 0 or len(str(df1.iloc[i]['title'])) == 0 or len(str(df1.iloc[i]['content'])) == 0:\n",
    "        droplist.append(i)\n",
    "        continue\n",
    "\n",
    "    sentence = re.sub(r4,'',str(df1.iloc[i]['content']))\n",
    "    sentence = re.sub(r1,'',sentence)\n",
    "    sentence = re.sub(r\" \",\"\",sentence)\n",
    "    sentence = re.sub(\"\\n\",\"\",sentence)\n",
    "    sentence = re.sub(\"\\u200b\",\"\",sentence)\n",
    "    sentence = re.sub(\"\\u200d\",\"\",sentence)\n",
    "    sentence = emoji_pattern.sub(r'', sentence)\n",
    "    sentence = re.sub(r\"http\\S+\", \"\", sentence)\n",
    "\n",
    "    if len(sentence) == 0:\n",
    "        droplist.append(i)\n",
    "        continue\n",
    "\n",
    "    words = pseg.cut(sentence)\n",
    "    sentence = ' '.join([word for word, flag in words if flag != 'x'])\n",
    "\n",
    "    if len(sentence) == 0:\n",
    "        droplist.append(i)\n",
    "        continue\n",
    "\n",
    "    df1.loc[i,'content'] = sentence\n",
    "\n",
    "df1.drop(droplist, axis=0, inplace=True)"
   ]
  },
  {
   "cell_type": "code",
   "execution_count": 6,
   "id": "58010ffe",
   "metadata": {},
   "outputs": [
    {
     "name": "stderr",
     "output_type": "stream",
     "text": [
      "100%|██████████| 15483/15483 [1:57:03<00:00,  2.20it/s]  \n"
     ]
    }
   ],
   "source": [
    "text = df1[['appName', 'category', 'title', 'content']].values.astype(str).tolist()\n",
    "X = torch.stack([torch.cat((\n",
    "        torch.cat(en_model(**en_tokenizer(row, return_tensors='pt', padding=True, truncation=True), output_hidden_states=True)[2][-4: ])[:, 0].detach(),\n",
    "        torch.cat(zh_model(**zh_tokenizer(row, return_tensors='pt', padding=True, truncation=True), output_hidden_states=True)[2][-4: ])[:, 0].detach(),\n",
    "            )) for row in tqdm(text)])\n",
    "y = torch.LongTensor([6 if np.isnan(label) else int(label) for label in df1['display_order'].values.tolist()])"
   ]
  },
  {
   "cell_type": "code",
   "execution_count": 7,
   "id": "79aea78d",
   "metadata": {},
   "outputs": [
    {
     "name": "stdout",
     "output_type": "stream",
     "text": [
      "torch.Size([15483, 32, 768])\n",
      "torch.Size([15483])\n"
     ]
    }
   ],
   "source": [
    "print(X.shape)\n",
    "print(y.shape)\n",
    "torch.save(X, 'X.pt')\n",
    "torch.save(y, 'y.pt')"
   ]
  }
 ],
 "metadata": {
  "interpreter": {
   "hash": "c1124073dee199d8e1894afd18905e6ab65c2b78c2f71f2204c8c819619ccb15"
  },
  "kernelspec": {
   "display_name": "Python 3.7.4 ('base')",
   "language": "python",
   "name": "python3"
  },
  "language_info": {
   "codemirror_mode": {
    "name": "ipython",
    "version": 3
   },
   "file_extension": ".py",
   "mimetype": "text/x-python",
   "name": "python",
   "nbconvert_exporter": "python",
   "pygments_lexer": "ipython3",
   "version": "3.7.4"
  }
 },
 "nbformat": 4,
 "nbformat_minor": 5
}
